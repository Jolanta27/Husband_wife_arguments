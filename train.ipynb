{
 "cells": [
  {
   "cell_type": "markdown",
   "metadata": {},
   "source": [
    "Raport z analizy danych i modeli "
   ]
  },
  {
   "cell_type": "markdown",
   "metadata": {},
   "source": [
    "Celem tego modelu jest analiza danych dotyczących kłótni między małżonkami oraz przewidywanie czasu trwania kłótni na podstawie różnych cech. Wykorzystano 3 modele: regresję liniową, las losowy oraz wielowarstwowy perceptron (MLP)."
   ]
  },
  {
   "cell_type": "code",
   "execution_count": 2,
   "metadata": {},
   "outputs": [],
   "source": [
    "import pandas as pd\n",
    "import seaborn as sns\n",
    "import matplotlib.pyplot as plt\n",
    "from sklearn.linear_model import LinearRegression\n",
    "from sklearn.ensemble import RandomForestRegressor\n",
    "from sklearn.neural_network import MLPRegressor\n",
    "from sklearn.model_selection import train_test_split\n",
    "from sklearn.preprocessing import OneHotEncoder\n",
    "from sklearn.metrics import mean_squared_error, r2_score\n",
    "import mlflow\n",
    "import mlflow.sklearn\n",
    "import plotly.express as px"
   ]
  },
  {
   "cell_type": "code",
   "execution_count": 3,
   "metadata": {},
   "outputs": [
    {
     "data": {
      "text/html": [
       "<div>\n",
       "<style scoped>\n",
       "    .dataframe tbody tr th:only-of-type {\n",
       "        vertical-align: middle;\n",
       "    }\n",
       "\n",
       "    .dataframe tbody tr th {\n",
       "        vertical-align: top;\n",
       "    }\n",
       "\n",
       "    .dataframe thead th {\n",
       "        text-align: right;\n",
       "    }\n",
       "</style>\n",
       "<table border=\"1\" class=\"dataframe\">\n",
       "  <thead>\n",
       "    <tr style=\"text-align: right;\">\n",
       "      <th></th>\n",
       "      <th>Argument ID</th>\n",
       "      <th>Date</th>\n",
       "      <th>Duration (minutes)</th>\n",
       "      <th>Topic</th>\n",
       "      <th>Emotional Tone</th>\n",
       "      <th>Resolution Type</th>\n",
       "      <th>Mood Swing</th>\n",
       "      <th>Notes</th>\n",
       "    </tr>\n",
       "  </thead>\n",
       "  <tbody>\n",
       "    <tr>\n",
       "      <th>0</th>\n",
       "      <td>1</td>\n",
       "      <td>2024-01-05</td>\n",
       "      <td>43</td>\n",
       "      <td>Parenting Styles</td>\n",
       "      <td>Disappointed</td>\n",
       "      <td>No Resolution</td>\n",
       "      <td>Mild</td>\n",
       "      <td>Discussed parenting styles for 43 minutes. Emo...</td>\n",
       "    </tr>\n",
       "    <tr>\n",
       "      <th>1</th>\n",
       "      <td>2</td>\n",
       "      <td>2024-02-05</td>\n",
       "      <td>24</td>\n",
       "      <td>Parenting Styles</td>\n",
       "      <td>Annoyed</td>\n",
       "      <td>Compromise</td>\n",
       "      <td>Severe</td>\n",
       "      <td>Discussed parenting styles for 24 minutes. Emo...</td>\n",
       "    </tr>\n",
       "    <tr>\n",
       "      <th>2</th>\n",
       "      <td>3</td>\n",
       "      <td>2024-02-27</td>\n",
       "      <td>25</td>\n",
       "      <td>Money Management</td>\n",
       "      <td>Annoyed</td>\n",
       "      <td>No Resolution</td>\n",
       "      <td>Moderate</td>\n",
       "      <td>Discussed money management for 25 minutes. Emo...</td>\n",
       "    </tr>\n",
       "    <tr>\n",
       "      <th>3</th>\n",
       "      <td>4</td>\n",
       "      <td>2024-02-07</td>\n",
       "      <td>20</td>\n",
       "      <td>Time Management</td>\n",
       "      <td>Angry</td>\n",
       "      <td>Resolution Discussed</td>\n",
       "      <td>Moderate</td>\n",
       "      <td>Discussed time management for 20 minutes. Emot...</td>\n",
       "    </tr>\n",
       "    <tr>\n",
       "      <th>4</th>\n",
       "      <td>5</td>\n",
       "      <td>2024-01-26</td>\n",
       "      <td>7</td>\n",
       "      <td>Future Goals</td>\n",
       "      <td>Frustrated</td>\n",
       "      <td>Resolution Discussed</td>\n",
       "      <td>Mild</td>\n",
       "      <td>Discussed future goals for 7 minutes. Emotiona...</td>\n",
       "    </tr>\n",
       "  </tbody>\n",
       "</table>\n",
       "</div>"
      ],
      "text/plain": [
       "   Argument ID        Date  Duration (minutes)             Topic  \\\n",
       "0            1  2024-01-05                  43  Parenting Styles   \n",
       "1            2  2024-02-05                  24  Parenting Styles   \n",
       "2            3  2024-02-27                  25  Money Management   \n",
       "3            4  2024-02-07                  20   Time Management   \n",
       "4            5  2024-01-26                   7      Future Goals   \n",
       "\n",
       "  Emotional Tone       Resolution Type Mood Swing  \\\n",
       "0   Disappointed         No Resolution       Mild   \n",
       "1        Annoyed            Compromise     Severe   \n",
       "2        Annoyed         No Resolution   Moderate   \n",
       "3          Angry  Resolution Discussed   Moderate   \n",
       "4     Frustrated  Resolution Discussed       Mild   \n",
       "\n",
       "                                               Notes  \n",
       "0  Discussed parenting styles for 43 minutes. Emo...  \n",
       "1  Discussed parenting styles for 24 minutes. Emo...  \n",
       "2  Discussed money management for 25 minutes. Emo...  \n",
       "3  Discussed time management for 20 minutes. Emot...  \n",
       "4  Discussed future goals for 7 minutes. Emotiona...  "
      ]
     },
     "execution_count": 3,
     "metadata": {},
     "output_type": "execute_result"
    }
   ],
   "source": [
    "df = pd.read_csv('husband_wife_arguments.csv')\n",
    "\n",
    "df.head()\n"
   ]
  },
  {
   "cell_type": "code",
   "execution_count": 4,
   "metadata": {},
   "outputs": [
    {
     "data": {
      "text/html": [
       "<div>\n",
       "<style scoped>\n",
       "    .dataframe tbody tr th:only-of-type {\n",
       "        vertical-align: middle;\n",
       "    }\n",
       "\n",
       "    .dataframe tbody tr th {\n",
       "        vertical-align: top;\n",
       "    }\n",
       "\n",
       "    .dataframe thead th {\n",
       "        text-align: right;\n",
       "    }\n",
       "</style>\n",
       "<table border=\"1\" class=\"dataframe\">\n",
       "  <thead>\n",
       "    <tr style=\"text-align: right;\">\n",
       "      <th></th>\n",
       "      <th>Argument ID</th>\n",
       "      <th>Date</th>\n",
       "      <th>Duration (minutes)</th>\n",
       "      <th>Topic</th>\n",
       "      <th>Emotional Tone</th>\n",
       "      <th>Resolution Type</th>\n",
       "      <th>Mood Swing</th>\n",
       "      <th>Notes</th>\n",
       "    </tr>\n",
       "  </thead>\n",
       "  <tbody>\n",
       "    <tr>\n",
       "      <th>1495</th>\n",
       "      <td>1496</td>\n",
       "      <td>2024-01-02</td>\n",
       "      <td>43</td>\n",
       "      <td>Parenting Styles</td>\n",
       "      <td>Calm</td>\n",
       "      <td>Compromise</td>\n",
       "      <td>Mild</td>\n",
       "      <td>Discussed parenting styles for 43 minutes. Emo...</td>\n",
       "    </tr>\n",
       "    <tr>\n",
       "      <th>1496</th>\n",
       "      <td>1497</td>\n",
       "      <td>2024-01-15</td>\n",
       "      <td>22</td>\n",
       "      <td>Money Management</td>\n",
       "      <td>Supportive</td>\n",
       "      <td>Apology</td>\n",
       "      <td>NaN</td>\n",
       "      <td>Discussed money management for 22 minutes. Emo...</td>\n",
       "    </tr>\n",
       "    <tr>\n",
       "      <th>1497</th>\n",
       "      <td>1498</td>\n",
       "      <td>2024-01-21</td>\n",
       "      <td>16</td>\n",
       "      <td>Social Activities</td>\n",
       "      <td>Happy</td>\n",
       "      <td>Resolution Discussed</td>\n",
       "      <td>Mild</td>\n",
       "      <td>Discussed social activities for 16 minutes. Em...</td>\n",
       "    </tr>\n",
       "    <tr>\n",
       "      <th>1498</th>\n",
       "      <td>1499</td>\n",
       "      <td>2024-01-26</td>\n",
       "      <td>12</td>\n",
       "      <td>Social Activities</td>\n",
       "      <td>Annoyed</td>\n",
       "      <td>Compromise</td>\n",
       "      <td>Mild</td>\n",
       "      <td>Discussed social activities for 12 minutes. Em...</td>\n",
       "    </tr>\n",
       "    <tr>\n",
       "      <th>1499</th>\n",
       "      <td>1500</td>\n",
       "      <td>2024-02-22</td>\n",
       "      <td>51</td>\n",
       "      <td>Time Management</td>\n",
       "      <td>Calm</td>\n",
       "      <td>No Resolution</td>\n",
       "      <td>NaN</td>\n",
       "      <td>Discussed time management for 51 minutes. Emot...</td>\n",
       "    </tr>\n",
       "  </tbody>\n",
       "</table>\n",
       "</div>"
      ],
      "text/plain": [
       "      Argument ID        Date  Duration (minutes)              Topic  \\\n",
       "1495         1496  2024-01-02                  43   Parenting Styles   \n",
       "1496         1497  2024-01-15                  22   Money Management   \n",
       "1497         1498  2024-01-21                  16  Social Activities   \n",
       "1498         1499  2024-01-26                  12  Social Activities   \n",
       "1499         1500  2024-02-22                  51    Time Management   \n",
       "\n",
       "     Emotional Tone       Resolution Type Mood Swing  \\\n",
       "1495           Calm            Compromise       Mild   \n",
       "1496     Supportive               Apology        NaN   \n",
       "1497          Happy  Resolution Discussed       Mild   \n",
       "1498        Annoyed            Compromise       Mild   \n",
       "1499           Calm         No Resolution        NaN   \n",
       "\n",
       "                                                  Notes  \n",
       "1495  Discussed parenting styles for 43 minutes. Emo...  \n",
       "1496  Discussed money management for 22 minutes. Emo...  \n",
       "1497  Discussed social activities for 16 minutes. Em...  \n",
       "1498  Discussed social activities for 12 minutes. Em...  \n",
       "1499  Discussed time management for 51 minutes. Emot...  "
      ]
     },
     "execution_count": 4,
     "metadata": {},
     "output_type": "execute_result"
    }
   ],
   "source": [
    "df.tail()"
   ]
  },
  {
   "cell_type": "code",
   "execution_count": 4,
   "metadata": {},
   "outputs": [
    {
     "data": {
      "text/plain": [
       "(1500, 8)"
      ]
     },
     "execution_count": 4,
     "metadata": {},
     "output_type": "execute_result"
    }
   ],
   "source": [
    "df.shape"
   ]
  },
  {
   "cell_type": "code",
   "execution_count": 5,
   "metadata": {},
   "outputs": [
    {
     "data": {
      "text/plain": [
       "Index(['Argument ID', 'Date', 'Duration (minutes)', 'Topic', 'Emotional Tone',\n",
       "       'Resolution Type', 'Mood Swing', 'Notes'],\n",
       "      dtype='object')"
      ]
     },
     "execution_count": 5,
     "metadata": {},
     "output_type": "execute_result"
    }
   ],
   "source": [
    "df.columns"
   ]
  },
  {
   "cell_type": "code",
   "execution_count": 6,
   "metadata": {},
   "outputs": [
    {
     "data": {
      "text/plain": [
       "np.int64(0)"
      ]
     },
     "execution_count": 6,
     "metadata": {},
     "output_type": "execute_result"
    }
   ],
   "source": [
    "df.duplicated().sum()"
   ]
  },
  {
   "cell_type": "code",
   "execution_count": 7,
   "metadata": {},
   "outputs": [
    {
     "data": {
      "text/plain": [
       "Argument ID             0\n",
       "Date                    0\n",
       "Duration (minutes)      0\n",
       "Topic                   0\n",
       "Emotional Tone          0\n",
       "Resolution Type         0\n",
       "Mood Swing            336\n",
       "Notes                   0\n",
       "dtype: int64"
      ]
     },
     "execution_count": 7,
     "metadata": {},
     "output_type": "execute_result"
    }
   ],
   "source": [
    "df.isnull().sum()"
   ]
  },
  {
   "cell_type": "code",
   "execution_count": 8,
   "metadata": {},
   "outputs": [
    {
     "name": "stdout",
     "output_type": "stream",
     "text": [
      "<class 'pandas.core.frame.DataFrame'>\n",
      "RangeIndex: 1500 entries, 0 to 1499\n",
      "Data columns (total 8 columns):\n",
      " #   Column              Non-Null Count  Dtype \n",
      "---  ------              --------------  ----- \n",
      " 0   Argument ID         1500 non-null   int64 \n",
      " 1   Date                1500 non-null   object\n",
      " 2   Duration (minutes)  1500 non-null   int64 \n",
      " 3   Topic               1500 non-null   object\n",
      " 4   Emotional Tone      1500 non-null   object\n",
      " 5   Resolution Type     1500 non-null   object\n",
      " 6   Mood Swing          1164 non-null   object\n",
      " 7   Notes               1500 non-null   object\n",
      "dtypes: int64(2), object(6)\n",
      "memory usage: 93.9+ KB\n"
     ]
    }
   ],
   "source": [
    "df.info()"
   ]
  },
  {
   "cell_type": "code",
   "execution_count": 9,
   "metadata": {},
   "outputs": [],
   "source": [
    "df['Date'] = pd.to_datetime(df['Date'])\n",
    "df['Year'] = df['Date'].dt.year\n",
    "df['Month'] = df['Date'].dt.month\n",
    "df['Day'] = df['Date'].dt.day\n",
    "df = df.drop(columns=['Date'])"
   ]
  },
  {
   "cell_type": "code",
   "execution_count": 10,
   "metadata": {},
   "outputs": [
    {
     "data": {
      "text/html": [
       "<div>\n",
       "<style scoped>\n",
       "    .dataframe tbody tr th:only-of-type {\n",
       "        vertical-align: middle;\n",
       "    }\n",
       "\n",
       "    .dataframe tbody tr th {\n",
       "        vertical-align: top;\n",
       "    }\n",
       "\n",
       "    .dataframe thead th {\n",
       "        text-align: right;\n",
       "    }\n",
       "</style>\n",
       "<table border=\"1\" class=\"dataframe\">\n",
       "  <thead>\n",
       "    <tr style=\"text-align: right;\">\n",
       "      <th></th>\n",
       "      <th>Argument ID</th>\n",
       "      <th>Duration (minutes)</th>\n",
       "      <th>Year</th>\n",
       "      <th>Month</th>\n",
       "      <th>Day</th>\n",
       "    </tr>\n",
       "  </thead>\n",
       "  <tbody>\n",
       "    <tr>\n",
       "      <th>count</th>\n",
       "      <td>1500.000000</td>\n",
       "      <td>1500.000000</td>\n",
       "      <td>1500.0</td>\n",
       "      <td>1500.000000</td>\n",
       "      <td>1500.000000</td>\n",
       "    </tr>\n",
       "    <tr>\n",
       "      <th>mean</th>\n",
       "      <td>750.500000</td>\n",
       "      <td>32.763333</td>\n",
       "      <td>2024.0</td>\n",
       "      <td>1.506667</td>\n",
       "      <td>15.122667</td>\n",
       "    </tr>\n",
       "    <tr>\n",
       "      <th>std</th>\n",
       "      <td>433.157015</td>\n",
       "      <td>16.379607</td>\n",
       "      <td>0.0</td>\n",
       "      <td>0.523582</td>\n",
       "      <td>8.620586</td>\n",
       "    </tr>\n",
       "    <tr>\n",
       "      <th>min</th>\n",
       "      <td>1.000000</td>\n",
       "      <td>5.000000</td>\n",
       "      <td>2024.0</td>\n",
       "      <td>1.000000</td>\n",
       "      <td>1.000000</td>\n",
       "    </tr>\n",
       "    <tr>\n",
       "      <th>25%</th>\n",
       "      <td>375.750000</td>\n",
       "      <td>18.000000</td>\n",
       "      <td>2024.0</td>\n",
       "      <td>1.000000</td>\n",
       "      <td>8.000000</td>\n",
       "    </tr>\n",
       "    <tr>\n",
       "      <th>50%</th>\n",
       "      <td>750.500000</td>\n",
       "      <td>33.000000</td>\n",
       "      <td>2024.0</td>\n",
       "      <td>1.000000</td>\n",
       "      <td>15.000000</td>\n",
       "    </tr>\n",
       "    <tr>\n",
       "      <th>75%</th>\n",
       "      <td>1125.250000</td>\n",
       "      <td>47.000000</td>\n",
       "      <td>2024.0</td>\n",
       "      <td>2.000000</td>\n",
       "      <td>22.000000</td>\n",
       "    </tr>\n",
       "    <tr>\n",
       "      <th>max</th>\n",
       "      <td>1500.000000</td>\n",
       "      <td>60.000000</td>\n",
       "      <td>2024.0</td>\n",
       "      <td>3.000000</td>\n",
       "      <td>31.000000</td>\n",
       "    </tr>\n",
       "  </tbody>\n",
       "</table>\n",
       "</div>"
      ],
      "text/plain": [
       "       Argument ID  Duration (minutes)    Year        Month          Day\n",
       "count  1500.000000         1500.000000  1500.0  1500.000000  1500.000000\n",
       "mean    750.500000           32.763333  2024.0     1.506667    15.122667\n",
       "std     433.157015           16.379607     0.0     0.523582     8.620586\n",
       "min       1.000000            5.000000  2024.0     1.000000     1.000000\n",
       "25%     375.750000           18.000000  2024.0     1.000000     8.000000\n",
       "50%     750.500000           33.000000  2024.0     1.000000    15.000000\n",
       "75%    1125.250000           47.000000  2024.0     2.000000    22.000000\n",
       "max    1500.000000           60.000000  2024.0     3.000000    31.000000"
      ]
     },
     "execution_count": 10,
     "metadata": {},
     "output_type": "execute_result"
    }
   ],
   "source": [
    "df.describe()"
   ]
  },
  {
   "cell_type": "code",
   "execution_count": 11,
   "metadata": {},
   "outputs": [
    {
     "name": "stderr",
     "output_type": "stream",
     "text": [
      "/var/folders/b5/wl4fs76n76586lz54z_yj3y40000gn/T/ipykernel_15319/1533634301.py:1: FutureWarning: A value is trying to be set on a copy of a DataFrame or Series through chained assignment using an inplace method.\n",
      "The behavior will change in pandas 3.0. This inplace method will never work because the intermediate object on which we are setting values always behaves as a copy.\n",
      "\n",
      "For example, when doing 'df[col].method(value, inplace=True)', try using 'df.method({col: value}, inplace=True)' or df[col] = df[col].method(value) instead, to perform the operation inplace on the original object.\n",
      "\n",
      "\n",
      "  df['Mood Swing'].fillna('Cant say', inplace=True)\n"
     ]
    }
   ],
   "source": [
    "df['Mood Swing'].fillna('Cant say', inplace=True)"
   ]
  },
  {
   "cell_type": "markdown",
   "metadata": {},
   "source": [
    "Rozkład czasu trwania kłótni przedstawiony na histogramie"
   ]
  },
  {
   "cell_type": "code",
   "execution_count": 12,
   "metadata": {},
   "outputs": [
    {
     "data": {
      "image/png": "[encoded data removed]",
      "text/plain": [
       "<Figure size 640x480 with 1 Axes>"
      ]
     },
     "metadata": {},
     "output_type": "display_data"
    }
   ],
   "source": [
    "sns.histplot(df['Duration (minutes)'], kde=True)\n",
    "plt.title('Rozkład czasu trwania kłótni')\n",
    "plt.show()"
   ]
  },
  {
   "cell_type": "markdown",
   "metadata": {},
   "source": [
    "Rozkład emocjonalnego tonu kłótni"
   ]
  },
  {
   "cell_type": "code",
   "execution_count": 13,
   "metadata": {},
   "outputs": [
    {
     "data": {
      "image/png": "[encoded data removed]",
      "text/plain": [
       "<Figure size 640x480 with 1 Axes>"
      ]
     },
     "metadata": {},
     "output_type": "display_data"
    }
   ],
   "source": [
    "sns.countplot(y='Emotional Tone', data=df, order=df['Emotional Tone'].value_counts().index)\n",
    "plt.title('Rozkład emocjonalnego tonu kłótni')\n",
    "plt.xlabel('Liczba kłótni')\n",
    "plt.ylabel('Emocjonalny ton')\n",
    "plt.show()"
   ]
  },
  {
   "cell_type": "markdown",
   "metadata": {},
   "source": [
    "Średni czas trwania kłótni w zależności od emocjonalnego tonu"
   ]
  },
  {
   "cell_type": "code",
   "execution_count": 15,
   "metadata": {},
   "outputs": [
    {
     "data": {
      "application/vnd.plotly.v1+json": {
       "config": {
        "plotlyServerURL": "https://plot.ly"
       },
       "data": [
        {
         "alignmentgroup": "True",
         "hovertemplate": "Emotional Tone=%{x}<br>Duration (minutes)=%{y}<extra></extra>",
         "legendgroup": "",
         "marker": {
          "color": "#636efa",
          "pattern": {
           "shape": ""
          }
         },
         "name": "",
         "offsetgroup": "",
         "orientation": "v",
         "showlegend": false,
         "textposition": "auto",
         "type": "bar",
         "x": [
          "Angry",
          "Annoyed",
          "Calm",
          "Disappointed",
          "Frustrated",
          "Happy",
          "Hurt",
          "Supportive"
         ],
         "xaxis": "x",
         "y": [
          34.921951219512195,
          30.646408839779006,
          31.637755102040817,
          32.81142857142857,
          32.76439790575916,
          32.68108108108108,
          31.48314606741573,
          34.857142857142854
         ],
         "yaxis": "y"
        }
       ],
       "layout": {
        "barmode": "relative",
        "legend": {
         "tracegroupgap": 0
        },
        "template": {
         "data": {
          "bar": [
           {
            "error_x": {
             "color": "#2a3f5f"
            },
            "error_y": {
             "color": "#2a3f5f"
            },
            "marker": {
             "line": {
              "color": "#E5ECF6",
              "width": 0.5
             },
             "pattern": {
              "fillmode": "overlay",
              "size": 10,
              "solidity": 0.2
             }
            },
            "type": "bar"
           }
          ],
          "barpolar": [
           {
            "marker": {
             "line": {
              "color": "#E5ECF6",
              "width": 0.5
             },
             "pattern": {
              "fillmode": "overlay",
              "size": 10,
              "solidity": 0.2
             }
            },
            "type": "barpolar"
           }
          ],
          "carpet": [
           {
            "aaxis": {
             "endlinecolor": "#2a3f5f",
             "gridcolor": "white",
             "linecolor": "white",
             "minorgridcolor": "white",
             "startlinecolor": "#2a3f5f"
            },
            "baxis": {
             "endlinecolor": "#2a3f5f",
             "gridcolor": "white",
             "linecolor": "white",
             "minorgridcolor": "white",
             "startlinecolor": "#2a3f5f"
            },
            "type": "carpet"
           }
          ],
          "choropleth": [
           {
            "colorbar": {
             "outlinewidth": 0,
             "ticks": ""
            },
            "type": "choropleth"
           }
          ],
          "contour": [
           {
            "colorbar": {
             "outlinewidth": 0,
             "ticks": ""
            },
            "colorscale": [
             [
              0,
              "#0d0887"
             ],
             [
              0.1111111111111111,
              "#46039f"
             ],
             [
              0.2222222222222222,
              "#7201a8"
             ],
             [
              0.3333333333333333,
              "#9c179e"
             ],
             [
              0.4444444444444444,
              "#bd3786"
             ],
             [
              0.5555555555555556,
              "#d8576b"
             ],
             [
              0.6666666666666666,
              "#ed7953"
             ],
             [
              0.7777777777777778,
              "#fb9f3a"
             ],
             [
              0.8888888888888888,
              "#fdca26"
             ],
             [
              1,
              "#f0f921"
             ]
            ],
            "type": "contour"
           }
          ],
          "contourcarpet": [
           {
            "colorbar": {
             "outlinewidth": 0,
             "ticks": ""
            },
            "type": "contourcarpet"
           }
          ],
          "heatmap": [
           {
            "colorbar": {
             "outlinewidth": 0,
             "ticks": ""
            },
            "colorscale": [
             [
              0,
              "#0d0887"
             ],
             [
              0.1111111111111111,
              "#46039f"
             ],
             [
              0.2222222222222222,
              "#7201a8"
             ],
             [
              0.3333333333333333,
              "#9c179e"
             ],
             [
              0.4444444444444444,
              "#bd3786"
             ],
             [
              0.5555555555555556,
              "#d8576b"
             ],
             [
              0.6666666666666666,
              "#ed7953"
             ],
             [
              0.7777777777777778,
              "#fb9f3a"
             ],
             [
              0.8888888888888888,
              "#fdca26"
             ],
             [
              1,
              "#f0f921"
             ]
            ],
            "type": "heatmap"
           }
          ],
          "heatmapgl": [
           {
            "colorbar": {
             "outlinewidth": 0,
             "ticks": ""
            },
            "colorscale": [
             [
              0,
              "#0d0887"
             ],
             [
              0.1111111111111111,
              "#46039f"
             ],
             [
              0.2222222222222222,
              "#7201a8"
             ],
             [
              0.3333333333333333,
              "#9c179e"
             ],
             [
              0.4444444444444444,
              "#bd3786"
             ],
             [
              0.5555555555555556,
              "#d8576b"
             ],
             [
              0.6666666666666666,
              "#ed7953"
             ],
             [
              0.7777777777777778,
              "#fb9f3a"
             ],
             [
              0.8888888888888888,
              "#fdca26"
             ],
             [
              1,
              "#f0f921"
             ]
            ],
            "type": "heatmapgl"
           }
          ],
          "histogram": [
           {
            "marker": {
             "pattern": {
              "fillmode": "overlay",
              "size": 10,
              "solidity": 0.2
             }
            },
            "type": "histogram"
           }
          ],
          "histogram2d": [
           {
            "colorbar": {
             "outlinewidth": 0,
             "ticks": ""
            },
            "colorscale": [
             [
              0,
              "#0d0887"
             ],
             [
              0.1111111111111111,
              "#46039f"
             ],
             [
              0.2222222222222222,
              "#7201a8"
             ],
             [
              0.3333333333333333,
              "#9c179e"
             ],
             [
              0.4444444444444444,
              "#bd3786"
             ],
             [
              0.5555555555555556,
              "#d8576b"
             ],
             [
              0.6666666666666666,
              "#ed7953"
             ],
             [
              0.7777777777777778,
              "#fb9f3a"
             ],
             [
              0.8888888888888888,
              "#fdca26"
             ],
             [
              1,
              "#f0f921"
             ]
            ],
            "type": "histogram2d"
           }
          ],
          "histogram2dcontour": [
           {
            "colorbar": {
             "outlinewidth": 0,
             "ticks": ""
            },
            "colorscale": [
             [
              0,
              "#0d0887"
             ],
             [
              0.1111111111111111,
              "#46039f"
             ],
             [
              0.2222222222222222,
              "#7201a8"
             ],
             [
              0.3333333333333333,
              "#9c179e"
             ],
             [
              0.4444444444444444,
              "#bd3786"
             ],
             [
              0.5555555555555556,
              "#d8576b"
             ],
             [
              0.6666666666666666,
              "#ed7953"
             ],
             [
              0.7777777777777778,
              "#fb9f3a"
             ],
             [
              0.8888888888888888,
              "#fdca26"
             ],
             [
              1,
              "#f0f921"
             ]
            ],
            "type": "histogram2dcontour"
           }
          ],
          "mesh3d": [
           {
            "colorbar": {
             "outlinewidth": 0,
             "ticks": ""
            },
            "type": "mesh3d"
           }
          ],
          "parcoords": [
           {
            "line": {
             "colorbar": {
              "outlinewidth": 0,
              "ticks": ""
             }
            },
            "type": "parcoords"
           }
          ],
          "pie": [
           {
            "automargin": true,
            "type": "pie"
           }
          ],
          "scatter": [
           {
            "fillpattern": {
             "fillmode": "overlay",
             "size": 10,
             "solidity": 0.2
            },
            "type": "scatter"
           }
          ],
          "scatter3d": [
           {
            "line": {
             "colorbar": {
              "outlinewidth": 0,
              "ticks": ""
             }
            },
            "marker": {
             "colorbar": {
              "outlinewidth": 0,
              "ticks": ""
             }
            },
            "type": "scatter3d"
           }
          ],
          "scattercarpet": [
           {
            "marker": {
             "colorbar": {
              "outlinewidth": 0,
              "ticks": ""
             }
            },
            "type": "scattercarpet"
           }
          ],
          "scattergeo": [
           {
            "marker": {
             "colorbar": {
              "outlinewidth": 0,
              "ticks": ""
             }
            },
            "type": "scattergeo"
           }
          ],
          "scattergl": [
           {
            "marker": {
             "colorbar": {
              "outlinewidth": 0,
              "ticks": ""
             }
            },
            "type": "scattergl"
           }
          ],
          "scattermapbox": [
           {
            "marker": {
             "colorbar": {
              "outlinewidth": 0,
              "ticks": ""
             }
            },
            "type": "scattermapbox"
           }
          ],
          "scatterpolar": [
           {
            "marker": {
             "colorbar": {
              "outlinewidth": 0,
              "ticks": ""
             }
            },
            "type": "scatterpolar"
           }
          ],
          "scatterpolargl": [
           {
            "marker": {
             "colorbar": {
              "outlinewidth": 0,
              "ticks": ""
             }
            },
            "type": "scatterpolargl"
           }
          ],
          "scatterternary": [
           {
            "marker": {
             "colorbar": {
              "outlinewidth": 0,
              "ticks": ""
             }
            },
            "type": "scatterternary"
           }
          ],
          "surface": [
           {
            "colorbar": {
             "outlinewidth": 0,
             "ticks": ""
            },
            "colorscale": [
             [
              0,
              "#0d0887"
             ],
             [
              0.1111111111111111,
              "#46039f"
             ],
             [
              0.2222222222222222,
              "#7201a8"
             ],
             [
              0.3333333333333333,
              "#9c179e"
             ],
             [
              0.4444444444444444,
              "#bd3786"
             ],
             [
              0.5555555555555556,
              "#d8576b"
             ],
             [
              0.6666666666666666,
              "#ed7953"
             ],
             [
              0.7777777777777778,
              "#fb9f3a"
             ],
             [
              0.8888888888888888,
              "#fdca26"
             ],
             [
              1,
              "#f0f921"
             ]
            ],
            "type": "surface"
           }
          ],
          "table": [
           {
            "cells": {
             "fill": {
              "color": "#EBF0F8"
             },
             "line": {
              "color": "white"
             }
            },
            "header": {
             "fill": {
              "color": "#C8D4E3"
             },
             "line": {
              "color": "white"
             }
            },
            "type": "table"
           }
          ]
         },
         "layout": {
          "annotationdefaults": {
           "arrowcolor": "#2a3f5f",
           "arrowhead": 0,
           "arrowwidth": 1
          },
          "autotypenumbers": "strict",
          "coloraxis": {
           "colorbar": {
            "outlinewidth": 0,
            "ticks": ""
           }
          },
          "colorscale": {
           "diverging": [
            [
             0,
             "#8e0152"
            ],
            [
             0.1,
             "#c51b7d"
            ],
            [
             0.2,
             "#de77ae"
            ],
            [
             0.3,
             "#f1b6da"
            ],
            [
             0.4,
             "#fde0ef"
            ],
            [
             0.5,
             "#f7f7f7"
            ],
            [
             0.6,
             "#e6f5d0"
            ],
            [
             0.7,
             "#b8e186"
            ],
            [
             0.8,
             "#7fbc41"
            ],
            [
             0.9,
             "#4d9221"
            ],
            [
             1,
             "#276419"
            ]
           ],
           "sequential": [
            [
             0,
             "#0d0887"
            ],
            [
             0.1111111111111111,
             "#46039f"
            ],
            [
             0.2222222222222222,
             "#7201a8"
            ],
            [
             0.3333333333333333,
             "#9c179e"
            ],
            [
             0.4444444444444444,
             "#bd3786"
            ],
            [
             0.5555555555555556,
             "#d8576b"
            ],
            [
             0.6666666666666666,
             "#ed7953"
            ],
            [
             0.7777777777777778,
             "#fb9f3a"
            ],
            [
             0.8888888888888888,
             "#fdca26"
            ],
            [
             1,
             "#f0f921"
            ]
           ],
           "sequentialminus": [
            [
             0,
             "#0d0887"
            ],
            [
             0.1111111111111111,
             "#46039f"
            ],
            [
             0.2222222222222222,
             "#7201a8"
            ],
            [
             0.3333333333333333,
             "#9c179e"
            ],
            [
             0.4444444444444444,
             "#bd3786"
            ],
            [
             0.5555555555555556,
             "#d8576b"
            ],
            [
             0.6666666666666666,
             "#ed7953"
            ],
            [
             0.7777777777777778,
             "#fb9f3a"
            ],
            [
             0.8888888888888888,
             "#fdca26"
            ],
            [
             1,
             "#f0f921"
            ]
           ]
          },
          "colorway": [
           "#636efa",
           "#EF553B",
           "#00cc96",
           "#ab63fa",
           "#FFA15A",
           "#19d3f3",
           "#FF6692",
           "#B6E880",
           "#FF97FF",
           "#FECB52"
          ],
          "font": {
           "color": "#2a3f5f"
          },
          "geo": {
           "bgcolor": "white",
           "lakecolor": "white",
           "landcolor": "#E5ECF6",
           "showlakes": true,
           "showland": true,
           "subunitcolor": "white"
          },
          "hoverlabel": {
           "align": "left"
          },
          "hovermode": "closest",
          "mapbox": {
           "style": "light"
          },
          "paper_bgcolor": "white",
          "plot_bgcolor": "#E5ECF6",
          "polar": {
           "angularaxis": {
            "gridcolor": "white",
            "linecolor": "white",
            "ticks": ""
           },
           "bgcolor": "#E5ECF6",
           "radialaxis": {
            "gridcolor": "white",
            "linecolor": "white",
            "ticks": ""
           }
          },
          "scene": {
           "xaxis": {
            "backgroundcolor": "#E5ECF6",
            "gridcolor": "white",
            "gridwidth": 2,
            "linecolor": "white",
            "showbackground": true,
            "ticks": "",
            "zerolinecolor": "white"
           },
           "yaxis": {
            "backgroundcolor": "#E5ECF6",
            "gridcolor": "white",
            "gridwidth": 2,
            "linecolor": "white",
            "showbackground": true,
            "ticks": "",
            "zerolinecolor": "white"
           },
           "zaxis": {
            "backgroundcolor": "#E5ECF6",
            "gridcolor": "white",
            "gridwidth": 2,
            "linecolor": "white",
            "showbackground": true,
            "ticks": "",
            "zerolinecolor": "white"
           }
          },
          "shapedefaults": {
           "line": {
            "color": "#2a3f5f"
           }
          },
          "ternary": {
           "aaxis": {
            "gridcolor": "white",
            "linecolor": "white",
            "ticks": ""
           },
           "baxis": {
            "gridcolor": "white",
            "linecolor": "white",
            "ticks": ""
           },
           "bgcolor": "#E5ECF6",
           "caxis": {
            "gridcolor": "white",
            "linecolor": "white",
            "ticks": ""
           }
          },
          "title": {
           "x": 0.05
          },
          "xaxis": {
           "automargin": true,
           "gridcolor": "white",
           "linecolor": "white",
           "ticks": "",
           "title": {
            "standoff": 15
           },
           "zerolinecolor": "white",
           "zerolinewidth": 2
          },
          "yaxis": {
           "automargin": true,
           "gridcolor": "white",
           "linecolor": "white",
           "ticks": "",
           "title": {
            "standoff": 15
           },
           "zerolinecolor": "white",
           "zerolinewidth": 2
          }
         }
        },
        "title": {
         "text": "Średni czas trwania kłótni w zależności od emocjonalnego tonu"
        },
        "xaxis": {
         "anchor": "y",
         "domain": [
          0,
          1
         ],
         "title": {
          "text": "Emotional Tone"
         }
        },
        "yaxis": {
         "anchor": "x",
         "domain": [
          0,
          1
         ],
         "title": {
          "text": "Duration (minutes)"
         }
        }
       }
      }
     },
     "metadata": {},
     "output_type": "display_data"
    }
   ],
   "source": [
    "avg_duration_by_tone = df.groupby('Emotional Tone')['Duration (minutes)'].mean().reset_index()\n",
    "fig = px.bar(avg_duration_by_tone, x='Emotional Tone', y='Duration (minutes)', title='Średni czas trwania kłótni w zależności od emocjonalnego tonu')\n",
    "fig.show()"
   ]
  },
  {
   "cell_type": "code",
   "execution_count": 16,
   "metadata": {},
   "outputs": [
    {
     "data": {
      "text/html": [
       "<div>\n",
       "<style scoped>\n",
       "    .dataframe tbody tr th:only-of-type {\n",
       "        vertical-align: middle;\n",
       "    }\n",
       "\n",
       "    .dataframe tbody tr th {\n",
       "        vertical-align: top;\n",
       "    }\n",
       "\n",
       "    .dataframe thead th {\n",
       "        text-align: right;\n",
       "    }\n",
       "</style>\n",
       "<table border=\"1\" class=\"dataframe\">\n",
       "  <thead>\n",
       "    <tr style=\"text-align: right;\">\n",
       "      <th></th>\n",
       "      <th>Argument ID</th>\n",
       "      <th>Duration (minutes)</th>\n",
       "      <th>Year</th>\n",
       "      <th>Month</th>\n",
       "      <th>Day</th>\n",
       "      <th>Topic_Future Goals</th>\n",
       "      <th>Topic_Household Chores</th>\n",
       "      <th>Topic_Money Management</th>\n",
       "      <th>Topic_Parenting Styles</th>\n",
       "      <th>Topic_Personal Space</th>\n",
       "      <th>...</th>\n",
       "      <th>Notes_Discussed time management for 6 minutes. Emotional tone was Supportive. Mood swings observed: Mild. Resolution type: Apology.</th>\n",
       "      <th>Notes_Discussed time management for 60 minutes. Emotional tone was Frustrated. Mood swings observed: Mild. Resolution type: Resolution Discussed.</th>\n",
       "      <th>Notes_Discussed time management for 60 minutes. Emotional tone was Hurt. Mood swings observed: Mild. Resolution type: Apology.</th>\n",
       "      <th>Notes_Discussed time management for 60 minutes. Emotional tone was Supportive. Mood swings observed: Mild. Resolution type: Compromise.</th>\n",
       "      <th>Notes_Discussed time management for 7 minutes. Emotional tone was Calm. Mood swings observed: Mild. Resolution type: Apology.</th>\n",
       "      <th>Notes_Discussed time management for 7 minutes. Emotional tone was Frustrated. Mood swings observed: Severe. Resolution type: Apology.</th>\n",
       "      <th>Notes_Discussed time management for 8 minutes. Emotional tone was Supportive. Mood swings observed: Mild. Resolution type: Resolution Discussed.</th>\n",
       "      <th>Notes_Discussed time management for 8 minutes. Emotional tone was Supportive. Mood swings observed: Moderate. Resolution type: Resolution Discussed.</th>\n",
       "      <th>Notes_Discussed time management for 9 minutes. Emotional tone was Annoyed. Mood swings observed: Moderate. Resolution type: Compromise.</th>\n",
       "      <th>Notes_Discussed time management for 9 minutes. Emotional tone was Frustrated. Mood swings observed: Moderate. Resolution type: Resolution Discussed.</th>\n",
       "    </tr>\n",
       "  </thead>\n",
       "  <tbody>\n",
       "    <tr>\n",
       "      <th>0</th>\n",
       "      <td>-1.730896</td>\n",
       "      <td>0.625173</td>\n",
       "      <td>2024</td>\n",
       "      <td>1</td>\n",
       "      <td>5</td>\n",
       "      <td>-0.365769</td>\n",
       "      <td>-0.388831</td>\n",
       "      <td>-0.398994</td>\n",
       "      <td>2.641727</td>\n",
       "      <td>-0.377388</td>\n",
       "      <td>...</td>\n",
       "      <td>-0.025828</td>\n",
       "      <td>-0.025828</td>\n",
       "      <td>-0.025828</td>\n",
       "      <td>-0.025828</td>\n",
       "      <td>-0.025828</td>\n",
       "      <td>-0.025828</td>\n",
       "      <td>-0.025828</td>\n",
       "      <td>-0.025828</td>\n",
       "      <td>-0.025828</td>\n",
       "      <td>-0.025828</td>\n",
       "    </tr>\n",
       "    <tr>\n",
       "      <th>1</th>\n",
       "      <td>-1.728587</td>\n",
       "      <td>-0.535193</td>\n",
       "      <td>2024</td>\n",
       "      <td>2</td>\n",
       "      <td>5</td>\n",
       "      <td>-0.365769</td>\n",
       "      <td>-0.388831</td>\n",
       "      <td>-0.398994</td>\n",
       "      <td>2.641727</td>\n",
       "      <td>-0.377388</td>\n",
       "      <td>...</td>\n",
       "      <td>-0.025828</td>\n",
       "      <td>-0.025828</td>\n",
       "      <td>-0.025828</td>\n",
       "      <td>-0.025828</td>\n",
       "      <td>-0.025828</td>\n",
       "      <td>-0.025828</td>\n",
       "      <td>-0.025828</td>\n",
       "      <td>-0.025828</td>\n",
       "      <td>-0.025828</td>\n",
       "      <td>-0.025828</td>\n",
       "    </tr>\n",
       "    <tr>\n",
       "      <th>2</th>\n",
       "      <td>-1.726278</td>\n",
       "      <td>-0.474121</td>\n",
       "      <td>2024</td>\n",
       "      <td>2</td>\n",
       "      <td>27</td>\n",
       "      <td>-0.365769</td>\n",
       "      <td>-0.388831</td>\n",
       "      <td>2.506303</td>\n",
       "      <td>-0.378540</td>\n",
       "      <td>-0.377388</td>\n",
       "      <td>...</td>\n",
       "      <td>-0.025828</td>\n",
       "      <td>-0.025828</td>\n",
       "      <td>-0.025828</td>\n",
       "      <td>-0.025828</td>\n",
       "      <td>-0.025828</td>\n",
       "      <td>-0.025828</td>\n",
       "      <td>-0.025828</td>\n",
       "      <td>-0.025828</td>\n",
       "      <td>-0.025828</td>\n",
       "      <td>-0.025828</td>\n",
       "    </tr>\n",
       "    <tr>\n",
       "      <th>3</th>\n",
       "      <td>-1.723968</td>\n",
       "      <td>-0.779481</td>\n",
       "      <td>2024</td>\n",
       "      <td>2</td>\n",
       "      <td>7</td>\n",
       "      <td>-0.365769</td>\n",
       "      <td>-0.388831</td>\n",
       "      <td>-0.398994</td>\n",
       "      <td>-0.378540</td>\n",
       "      <td>-0.377388</td>\n",
       "      <td>...</td>\n",
       "      <td>-0.025828</td>\n",
       "      <td>-0.025828</td>\n",
       "      <td>-0.025828</td>\n",
       "      <td>-0.025828</td>\n",
       "      <td>-0.025828</td>\n",
       "      <td>-0.025828</td>\n",
       "      <td>-0.025828</td>\n",
       "      <td>-0.025828</td>\n",
       "      <td>-0.025828</td>\n",
       "      <td>-0.025828</td>\n",
       "    </tr>\n",
       "    <tr>\n",
       "      <th>4</th>\n",
       "      <td>-1.721659</td>\n",
       "      <td>-1.573415</td>\n",
       "      <td>2024</td>\n",
       "      <td>1</td>\n",
       "      <td>26</td>\n",
       "      <td>2.733967</td>\n",
       "      <td>-0.388831</td>\n",
       "      <td>-0.398994</td>\n",
       "      <td>-0.378540</td>\n",
       "      <td>-0.377388</td>\n",
       "      <td>...</td>\n",
       "      <td>-0.025828</td>\n",
       "      <td>-0.025828</td>\n",
       "      <td>-0.025828</td>\n",
       "      <td>-0.025828</td>\n",
       "      <td>-0.025828</td>\n",
       "      <td>-0.025828</td>\n",
       "      <td>-0.025828</td>\n",
       "      <td>-0.025828</td>\n",
       "      <td>-0.025828</td>\n",
       "      <td>-0.025828</td>\n",
       "    </tr>\n",
       "  </tbody>\n",
       "</table>\n",
       "<p>5 rows × 1508 columns</p>\n",
       "</div>"
      ],
      "text/plain": [
       "   Argument ID  Duration (minutes)  Year  Month  Day  Topic_Future Goals  \\\n",
       "0    -1.730896            0.625173  2024      1    5           -0.365769   \n",
       "1    -1.728587           -0.535193  2024      2    5           -0.365769   \n",
       "2    -1.726278           -0.474121  2024      2   27           -0.365769   \n",
       "3    -1.723968           -0.779481  2024      2    7           -0.365769   \n",
       "4    -1.721659           -1.573415  2024      1   26            2.733967   \n",
       "\n",
       "   Topic_Household Chores  Topic_Money Management  Topic_Parenting Styles  \\\n",
       "0               -0.388831               -0.398994                2.641727   \n",
       "1               -0.388831               -0.398994                2.641727   \n",
       "2               -0.388831                2.506303               -0.378540   \n",
       "3               -0.388831               -0.398994               -0.378540   \n",
       "4               -0.388831               -0.398994               -0.378540   \n",
       "\n",
       "   Topic_Personal Space  ...  \\\n",
       "0             -0.377388  ...   \n",
       "1             -0.377388  ...   \n",
       "2             -0.377388  ...   \n",
       "3             -0.377388  ...   \n",
       "4             -0.377388  ...   \n",
       "\n",
       "   Notes_Discussed time management for 6 minutes. Emotional tone was Supportive. Mood swings observed: Mild. Resolution type: Apology.  \\\n",
       "0                                          -0.025828                                                                                     \n",
       "1                                          -0.025828                                                                                     \n",
       "2                                          -0.025828                                                                                     \n",
       "3                                          -0.025828                                                                                     \n",
       "4                                          -0.025828                                                                                     \n",
       "\n",
       "   Notes_Discussed time management for 60 minutes. Emotional tone was Frustrated. Mood swings observed: Mild. Resolution type: Resolution Discussed.  \\\n",
       "0                                          -0.025828                                                                                                   \n",
       "1                                          -0.025828                                                                                                   \n",
       "2                                          -0.025828                                                                                                   \n",
       "3                                          -0.025828                                                                                                   \n",
       "4                                          -0.025828                                                                                                   \n",
       "\n",
       "   Notes_Discussed time management for 60 minutes. Emotional tone was Hurt. Mood swings observed: Mild. Resolution type: Apology.  \\\n",
       "0                                          -0.025828                                                                                \n",
       "1                                          -0.025828                                                                                \n",
       "2                                          -0.025828                                                                                \n",
       "3                                          -0.025828                                                                                \n",
       "4                                          -0.025828                                                                                \n",
       "\n",
       "   Notes_Discussed time management for 60 minutes. Emotional tone was Supportive. Mood swings observed: Mild. Resolution type: Compromise.  \\\n",
       "0                                          -0.025828                                                                                         \n",
       "1                                          -0.025828                                                                                         \n",
       "2                                          -0.025828                                                                                         \n",
       "3                                          -0.025828                                                                                         \n",
       "4                                          -0.025828                                                                                         \n",
       "\n",
       "   Notes_Discussed time management for 7 minutes. Emotional tone was Calm. Mood swings observed: Mild. Resolution type: Apology.  \\\n",
       "0                                          -0.025828                                                                               \n",
       "1                                          -0.025828                                                                               \n",
       "2                                          -0.025828                                                                               \n",
       "3                                          -0.025828                                                                               \n",
       "4                                          -0.025828                                                                               \n",
       "\n",
       "   Notes_Discussed time management for 7 minutes. Emotional tone was Frustrated. Mood swings observed: Severe. Resolution type: Apology.  \\\n",
       "0                                          -0.025828                                                                                       \n",
       "1                                          -0.025828                                                                                       \n",
       "2                                          -0.025828                                                                                       \n",
       "3                                          -0.025828                                                                                       \n",
       "4                                          -0.025828                                                                                       \n",
       "\n",
       "   Notes_Discussed time management for 8 minutes. Emotional tone was Supportive. Mood swings observed: Mild. Resolution type: Resolution Discussed.  \\\n",
       "0                                          -0.025828                                                                                                  \n",
       "1                                          -0.025828                                                                                                  \n",
       "2                                          -0.025828                                                                                                  \n",
       "3                                          -0.025828                                                                                                  \n",
       "4                                          -0.025828                                                                                                  \n",
       "\n",
       "   Notes_Discussed time management for 8 minutes. Emotional tone was Supportive. Mood swings observed: Moderate. Resolution type: Resolution Discussed.  \\\n",
       "0                                          -0.025828                                                                                                      \n",
       "1                                          -0.025828                                                                                                      \n",
       "2                                          -0.025828                                                                                                      \n",
       "3                                          -0.025828                                                                                                      \n",
       "4                                          -0.025828                                                                                                      \n",
       "\n",
       "   Notes_Discussed time management for 9 minutes. Emotional tone was Annoyed. Mood swings observed: Moderate. Resolution type: Compromise.  \\\n",
       "0                                          -0.025828                                                                                         \n",
       "1                                          -0.025828                                                                                         \n",
       "2                                          -0.025828                                                                                         \n",
       "3                                          -0.025828                                                                                         \n",
       "4                                          -0.025828                                                                                         \n",
       "\n",
       "   Notes_Discussed time management for 9 minutes. Emotional tone was Frustrated. Mood swings observed: Moderate. Resolution type: Resolution Discussed.  \n",
       "0                                          -0.025828                                                                                                     \n",
       "1                                          -0.025828                                                                                                     \n",
       "2                                          -0.025828                                                                                                     \n",
       "3                                          -0.025828                                                                                                     \n",
       "4                                          -0.025828                                                                                                     \n",
       "\n",
       "[5 rows x 1508 columns]"
      ]
     },
     "execution_count": 16,
     "metadata": {},
     "output_type": "execute_result"
    }
   ],
   "source": [
    "categorical_features = df.select_dtypes(include=['object']).columns\n",
    "encoder = OneHotEncoder(sparse_output=False, drop='first')\n",
    "encoded_features = pd.DataFrame(encoder.fit_transform(df[categorical_features]), columns=encoder.get_feature_names_out(categorical_features))\n",
    "df = df.drop(categorical_features, axis=1)\n",
    "df = pd.concat([df, encoded_features], axis=1)\n",
    "\n",
    "\n",
    "from sklearn.preprocessing import StandardScaler\n",
    "numerical_features = df.select_dtypes(include=['int64', 'float64']).columns\n",
    "scaler = StandardScaler()\n",
    "df[numerical_features] = scaler.fit_transform(df[numerical_features])\n",
    "\n",
    "df.head()"
   ]
  },
  {
   "cell_type": "code",
   "execution_count": 17,
   "metadata": {},
   "outputs": [
    {
     "data": {
      "text/plain": [
       "((1200, 1507), (300, 1507), (1200,), (300,))"
      ]
     },
     "execution_count": 17,
     "metadata": {},
     "output_type": "execute_result"
    }
   ],
   "source": [
    "X = df.drop('Duration (minutes)', axis=1).astype(float)\n",
    "y = df['Duration (minutes)']\n",
    "\n",
    "X_train, X_test, y_train, y_test = train_test_split(X, y, test_size=0.2, random_state=42)\n",
    "\n",
    "X_train.shape, X_test.shape, y_train.shape, y_test.shape"
   ]
  },
  {
   "cell_type": "code",
   "execution_count": 18,
   "metadata": {},
   "outputs": [
    {
     "name": "stdout",
     "output_type": "stream",
     "text": [
      "Linear Regression Mean Squared Error: 1.0055712459928523\n",
      "Linear Regression R-squared: -0.0016718053646593845\n"
     ]
    }
   ],
   "source": [
    "lr_model = LinearRegression()\n",
    "\n",
    "lr_model.fit(X_train, y_train)\n",
    "\n",
    "y_pred_lr = lr_model.predict(X_test)\n",
    "mse_lr = mean_squared_error(y_test, y_pred_lr)\n",
    "r2_lr = r2_score(y_test, y_pred_lr)\n",
    "\n",
    "print(f\"Linear Regression Mean Squared Error: {mse_lr}\")\n",
    "print(f\"Linear Regression R-squared: {r2_lr}\")"
   ]
  },
  {
   "cell_type": "code",
   "execution_count": 19,
   "metadata": {},
   "outputs": [
    {
     "name": "stdout",
     "output_type": "stream",
     "text": [
      "Random Forest Regressor Mean Squared Error: 1.1398792025193056\n",
      "Random Forest Regressor R-squared: -0.135458937628828\n"
     ]
    }
   ],
   "source": [
    "rf_model = RandomForestRegressor(n_estimators=100, random_state=42)\n",
    "\n",
    "rf_model.fit(X_train, y_train)\n",
    "\n",
    "y_pred_rf = rf_model.predict(X_test)\n",
    "mse_rf = mean_squared_error(y_test, y_pred_rf)\n",
    "r2_rf = r2_score(y_test, y_pred_rf)\n",
    "\n",
    "print(f\"Random Forest Regressor Mean Squared Error: {mse_rf}\")\n",
    "print(f\"Random Forest Regressor R-squared: {r2_rf}\")\n"
   ]
  },
  {
   "cell_type": "code",
   "execution_count": 20,
   "metadata": {},
   "outputs": [
    {
     "data": {
      "image/png": "[encoded data removed]",
      "text/plain": [
       "<Figure size 640x480 with 1 Axes>"
      ]
     },
     "metadata": {},
     "output_type": "display_data"
    }
   ],
   "source": [
    "plt.scatter(y_test, y_pred_lr, alpha=0.5)\n",
    "plt.plot([y_test.min(), y_test.max()], [y_test.min(), y_test.max()], 'k--', lw=2)\n",
    "plt.xlabel('Rzeczywisty czas trwania')\n",
    "plt.ylabel('Przewidywany czas trwania')\n",
    "plt.title('Regresja liniowa: Rzeczywisty vs Przewidywany czas trwania')\n",
    "plt.show()"
   ]
  },
  {
   "cell_type": "code",
   "execution_count": 21,
   "metadata": {},
   "outputs": [
    {
     "data": {
      "image/png": "[encoded data removed]",
      "text/plain": [
       "<Figure size 640x480 with 1 Axes>"
      ]
     },
     "metadata": {},
     "output_type": "display_data"
    }
   ],
   "source": [
    "plt.scatter(y_test, y_pred_rf, alpha=0.5)\n",
    "plt.plot([y_test.min(), y_test.max()], [y_test.min(), y_test.max()], 'k--', lw=2)\n",
    "plt.xlabel('Rzeczywisty czas trwania')\n",
    "plt.ylabel('Przewidywany czas trwania')\n",
    "plt.title('Las losowy: Rzeczywisty vs Przewidywany czas trwania')\n",
    "plt.show()"
   ]
  },
  {
   "cell_type": "code",
   "execution_count": 22,
   "metadata": {},
   "outputs": [
    {
     "name": "stdout",
     "output_type": "stream",
     "text": [
      "MLP Regressor Mean Squared Error: 2.6472372357602505\n",
      "MLP Regressor R-squared: -1.6369716832489547\n"
     ]
    }
   ],
   "source": [
    "mlp_model = MLPRegressor(hidden_layer_sizes=(100,), max_iter=500, random_state=42)\n",
    "\n",
    "mlp_model.fit(X_train, y_train)\n",
    "\n",
    "y_pred_mlp = mlp_model.predict(X_test)\n",
    "mse_mlp = mean_squared_error(y_test, y_pred_mlp)\n",
    "r2_mlp = r2_score(y_test, y_pred_mlp)\n",
    "\n",
    "print(f\"MLP Regressor Mean Squared Error: {mse_mlp}\")\n",
    "print(f\"MLP Regressor R-squared: {r2_mlp}\")\n"
   ]
  },
  {
   "cell_type": "code",
   "execution_count": 23,
   "metadata": {},
   "outputs": [
    {
     "data": {
      "image/png": "[encoded data removed]",
      "text/plain": [
       "<Figure size 640x480 with 1 Axes>"
      ]
     },
     "metadata": {},
     "output_type": "display_data"
    }
   ],
   "source": [
    "plt.scatter(y_test, y_pred_mlp, alpha=0.5)\n",
    "plt.plot([y_test.min(), y_test.max()], [y_test.min(), y_test.max()], 'k--', lw=2)\n",
    "plt.xlabel('Rzeczywisty czas trwania')\n",
    "plt.ylabel('Przewidywany czas trwania')\n",
    "plt.title('MLP: Rzeczywisty vs Przewidywany czas trwania')\n",
    "plt.show()"
   ]
  },
  {
   "cell_type": "code",
   "execution_count": 24,
   "metadata": {},
   "outputs": [],
   "source": [
    "input_example = X_train.iloc[:5]\n",
    "\n",
    "with mlflow.start_run():\n",
    "    mlflow.sklearn.log_model(lr_model, \"linear_regression_model\", input_example=input_example)\n",
    "    mlflow.log_metric(\"mse_lr\", mse_lr)\n",
    "    mlflow.log_metric(\"r2_lr\", r2_lr)\n",
    "    \n",
    "    mlflow.sklearn.log_model(rf_model, \"random_forest_regressor_model\", input_example=input_example)\n",
    "    mlflow.log_metric(\"mse_rf\", mse_rf)\n",
    "    mlflow.log_metric(\"r2_rf\", r2_rf)\n",
    "    \n",
    "    mlflow.sklearn.log_model(mlp_model, \"mlp_regressor_model\", input_example=input_example)\n",
    "    mlflow.log_metric(\"mse_mlp\", mse_mlp)\n",
    "    mlflow.log_metric(\"r2_mlp\", r2_mlp)"
   ]
  },
  {
   "cell_type": "markdown",
   "metadata": {},
   "source": [
    "Wnioski:\n",
    "Na podstawie wyników można stwierdzić, że regresja liniowa osiągnęła najlepsze wyniki spośród trzech testowanych modeli, chociaż wszystkie modele miały stosunkowo niskie wartości R-squared, co sugeruje, że mogą nie być dobrze dopasowane do danych. Możliwe jest, że inne cechy lub bardziej zaawansowane modele mogłyby poprawić wyniki. \n",
    "\n",
    "Podsumowanie:\n",
    "W analizie danych dotyczących kłótni między małżonkami, wykryto duże zmienności w czasie trwania kłótni. Średni czas trwania kłótni wynosił około 33 minuty, z dużą zmiennością w zależności od tematu i emocjonalnego tonu. Najczęście poruszane tematy to \"Parenting styles\", \"Money Management\", i \"Time Management\". Emocjonalny ton kłótni miał znaczący wpływ na czas trwania kłótni. Kłótnie z tonem \"Angry\" i \"Frustrated\" były zazwyczaj dłuższe.  Kłótnie, które kończyły się \"No Resolution\" lub \"Resolution Discussed\", były zazwyczaj dłuższe niż te, które kończyły się \"Compromise\" lub \"Apology\". Wyniki modeli zostały zalogowane do MLflow, co umożliwia śledzenie i porównywanie różnych modeli. Analiza danych pozwoliła na wyciągnięcie wniosków dotyczących czasu trwania kłótni między małżonkami oraz czynników, które mogą na niego wpływać. "
   ]
  }
 ],
 "metadata": {
  "kernelspec": {
   "display_name": "venv",
   "language": "python",
   "name": "python3"
  },
  "language_info": {
   "codemirror_mode": {
    "name": "ipython",
    "version": 3
   },
   "file_extension": ".py",
   "mimetype": "text/x-python",
   "name": "python",
   "nbconvert_exporter": "python",
   "pygments_lexer": "ipython3",
   "version": "3.12.2"
  }
 },
 "nbformat": 4,
 "nbformat_minor": 2
}
